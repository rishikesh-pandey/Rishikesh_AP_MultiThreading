{
 "cells": [
  {
   "cell_type": "code",
   "execution_count": null,
   "id": "b493c6c1",
   "metadata": {},
   "outputs": [],
   "source": [
    "import threading\n",
    "import requests\n",
    "import time\n",
    "\n",
    "def download_file(url, filename):\n",
    "    response = requests.get(url)\n",
    "    with open(filename, \"wb\") as f:\n",
    "        f.write(response.content)\n",
    "\n",
    "def concurrent_download(urls):\n",
    "    threads = []\n",
    "    for i, url in enumerate(urls):\n",
    "        filename = f\"file_{i}.dat\"\n",
    "        t = threading.Thread(target=download_file, args=(url, filename))\n",
    "        threads.append(t)\n",
    "        t.start()\n",
    "    for t in threads:\n",
    "        t.join()\n",
    "\n",
    "if __name__ == \"__main__\":\n",
    "    urls = [\n",
    "        \"http://rishikesh.com/file1\",\n",
    "        \"http://rishikesh.com/file2\", \n",
    "        \"http://rishikesh.com/file3\"\n",
    "    ]\n",
    "    start_time = time.time()\n",
    "    for i, url in enumerate(urls):\n",
    "        download_file(url, f\"seq_file_{i}.dat\")\n",
    "    print(\"Sequential download time:\", time.time() - start_time)\n",
    "    start_time = time.time()\n",
    "    concurrent_download(urls)\n",
    "    print(\"Concurrent download time:\", time.time() - start_time)\n"
   ]
  }
 ],
 "metadata": {
  "kernelspec": {
   "display_name": "base",
   "language": "python",
   "name": "python3"
  },
  "language_info": {
   "name": "python",
   "version": "3.11.4"
  }
 },
 "nbformat": 4,
 "nbformat_minor": 5
}
